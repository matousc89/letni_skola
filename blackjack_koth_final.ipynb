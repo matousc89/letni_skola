{
 "cells": [
  {
   "cell_type": "code",
   "execution_count": 30,
   "metadata": {},
   "outputs": [],
   "source": [
    "def print_warning(a, b):\n",
    "    \"\"\"\n",
    "    TODO: \n",
    "    \"\"\"\n",
    "    pass"
   ]
  },
  {
   "cell_type": "code",
   "execution_count": 52,
   "metadata": {},
   "outputs": [
    {
     "data": {
      "text/plain": [
       "Student"
      ]
     },
     "execution_count": 52,
     "metadata": {},
     "output_type": "execute_result"
    }
   ],
   "source": [
    "class Student():\n",
    "    \n",
    "    def prihlasit_se(self):\n",
    "        print(\"Hlasim se\")\n",
    "        \n",
    "    def __str__(self):\n",
    "        return \"Student\"\n",
    "    \n",
    "    def __repr__(self):\n",
    "        return self.__str__()\n",
    "        \n",
    "\n",
    "s1 = Student()\n",
    "s2 = Student()\n",
    "\n",
    "s1.prihlasit()\n"
   ]
  },
  {
   "cell_type": "code",
   "execution_count": 42,
   "metadata": {},
   "outputs": [
    {
     "data": {
      "text/plain": [
       "['__class__',\n",
       " '__delattr__',\n",
       " '__dict__',\n",
       " '__dir__',\n",
       " '__doc__',\n",
       " '__eq__',\n",
       " '__format__',\n",
       " '__ge__',\n",
       " '__getattribute__',\n",
       " '__gt__',\n",
       " '__hash__',\n",
       " '__init__',\n",
       " '__init_subclass__',\n",
       " '__le__',\n",
       " '__lt__',\n",
       " '__module__',\n",
       " '__ne__',\n",
       " '__new__',\n",
       " '__reduce__',\n",
       " '__reduce_ex__',\n",
       " '__repr__',\n",
       " '__setattr__',\n",
       " '__sizeof__',\n",
       " '__str__',\n",
       " '__subclasshook__',\n",
       " '__weakref__',\n",
       " 'prihlasit_se']"
      ]
     },
     "execution_count": 42,
     "metadata": {},
     "output_type": "execute_result"
    }
   ],
   "source": [
    "dir(Student)"
   ]
  },
  {
   "cell_type": "code",
   "execution_count": 1,
   "metadata": {},
   "outputs": [],
   "source": [
    "import random\n",
    "\n",
    "class Player():\n",
    "    \n",
    "    def __init__(self, name, log,\n",
    "                bettor_play_handler,\n",
    "                dealer_play_handler,\n",
    "                bet_handler,\n",
    "                call_handler):\n",
    "        self.total_value = 0\n",
    "        self.name = name\n",
    "        self.score = 0\n",
    "        self.log = log\n",
    "        self.bettor_play_handler = bettor_play_handler \n",
    "        self.dealer_play_handler = dealer_play_handler\n",
    "        self.bet_handler = bet_handler\n",
    "        self.call_handler = call_handler\n",
    "    \n",
    "    def __repr__(self):\n",
    "        return self.name\n",
    "    \n",
    "    def __str__(self):\n",
    "        return self.__repr__()\n",
    "    \n",
    "    def get_penalization(self):\n",
    "        \"\"\"\n",
    "        Tato funkce spocita penalizaci hrace.\n",
    "        \n",
    "        Pokud hrace nahaze pres 21, je maximalni penalizace = 100\n",
    "        \"\"\"\n",
    "        self.penalization = 100 if self.total_value > 21 else 21 - self.total_value\n",
    "        \n",
    "    def roll_dice(self):\n",
    "        \"\"\"\n",
    "        Tato funkce vrací nahodny hod kostkou - integer 1-6.\n",
    "        \n",
    "        TODO: zajistit lepsi nahodny cislo\n",
    "        \"\"\"\n",
    "        return random.randint(1, 6)\n",
    "    \n",
    "    def bettor_play(self):\n",
    "        while self.total_value < 21:\n",
    "            self.total_value += self.roll_dice()\n",
    "            if not self.bettor_play_handler(self.log, self.total_value):\n",
    "                break\n",
    "        self.get_penalization()\n",
    "            \n",
    "    def dealer_play(self):\n",
    "        while self.total_value < 17:\n",
    "            self.total_value += self.roll_dice()\n",
    "            if not self.dealer_play_handler(self.log, self.total_value):\n",
    "                break\n",
    "        self.get_penalization()\n",
    "            \n",
    "    def bet(self):\n",
    "        return self.bet_handler(self.log, self.total_value)\n",
    "    \n",
    "    def call(self, bet_size):\n",
    "        return self.call_handler(self.log, self.total_value, bet_size)\n",
    "    \n",
    "    def cleanup(self):\n",
    "        self.total_value = 0\n",
    "\n",
    "\n",
    "def dummy_bettor_play(log, value):\n",
    "    return True\n",
    "\n",
    "def dummy_dealer_play(log, value):\n",
    "    return True\n",
    "\n",
    "def dummy_bet(log, value):\n",
    "    return 5\n",
    "\n",
    "def dummy_call(log, value, bet_size):\n",
    "    return True\n",
    "\n",
    "\n",
    "p = Player(\"Test\", [],\n",
    "    dummy_bettor_play,\n",
    "    dummy_dealer_play,\n",
    "    dummy_bet,\n",
    "    dummy_call)\n"
   ]
  },
  {
   "cell_type": "code",
   "execution_count": 2,
   "metadata": {},
   "outputs": [],
   "source": [
    "def better_bettor_play(log, value):\n",
    "    if value >= 18:\n",
    "        return False\n",
    "    else:\n",
    "        return True\n",
    "\n",
    "def better_dealer_play(log, value):\n",
    "    return True\n",
    "\n",
    "def better_bet(log, value):\n",
    "    return random.randint(1, 5)\n",
    "\n",
    "def better_call(log, value, bet_size):\n",
    "    if value > 21:\n",
    "        return False\n",
    "    else:\n",
    "        return True"
   ]
  },
  {
   "cell_type": "code",
   "execution_count": 5,
   "metadata": {},
   "outputs": [
    {
     "name": "stdout",
     "output_type": "stream",
     "text": [
      "A -11539\n",
      "B 11539\n"
     ]
    }
   ],
   "source": [
    "import os\n",
    "\n",
    "def update_score(size, winner, loser):\n",
    "    winner.score += size\n",
    "    loser.score -= size\n",
    "    return winner, loser\n",
    "    \n",
    "def write_log_entry(log, FILENAME):\n",
    "    text = \"\\n\" + \",\".join(map(str, log[-1]))\n",
    "    with open(FILENAME, \"a\") as f:\n",
    "        f.write(text)    \n",
    "    \n",
    "def game_round(bettor, dealer, FILENAME): \n",
    "    bettor.bettor_play()\n",
    "    bet_size = bettor.bet()\n",
    "    dealer.dealer_play()\n",
    "    if not dealer.call(bet_size):\n",
    "        winner, loser = update_score(1, bettor, dealer)\n",
    "        called = 0\n",
    "    else:\n",
    "        if bettor.penalization < dealer.penalization:\n",
    "            winner, loser = update_score(bet_size, bettor, dealer)\n",
    "        else:\n",
    "            winner, loser = update_score(bet_size, dealer, bettor)\n",
    "        called = 1\n",
    "    log.append((bettor.name, dealer.name, winner, loser, bet_size, called, bettor.total_value, dealer.total_value))\n",
    "    write_log_entry(log, FILENAME)\n",
    "    for player in [bettor, dealer]:\n",
    "        player.cleanup()\n",
    "    \n",
    "def simulation(p, n, FILENAME):\n",
    "    # vytvoreni souboru\n",
    "    text = \"bettor_name,dealer_name,winner,loser,bet_size,called,bettor_value,dealer_value\"\n",
    "    with open(FILENAME, \"w\") as f:\n",
    "        f.write(text)\n",
    "    # zbytek simulace\n",
    "    for idx in range(n):\n",
    "        game_round(p[0], p[1], FILENAME)\n",
    "        p[0], p[1] = p[1], p[0] \n",
    "    print(p[0], p[0].score)\n",
    "    print(p[1], p[1].score)\n",
    "    #lines = [\",\".join(map(str, entry)) for entry in log]\n",
    "\n",
    "    \n",
    "\n",
    "    \n",
    "FILENAME = os.path.join(\"data\", \"output.csv\")\n",
    "    \n",
    "    \n",
    "log = []    \n",
    "\n",
    "p = [\n",
    "    Player(\"A\", log,\n",
    "        dummy_bettor_play,\n",
    "        dummy_dealer_play,\n",
    "        dummy_bet,\n",
    "        dummy_call),\n",
    "    Player(\"B\", log,\n",
    "        better_bettor_play,\n",
    "        better_dealer_play,\n",
    "        better_bet,\n",
    "        better_call),\n",
    "]\n",
    "\n",
    "\n",
    "\n",
    "simulation(p, 10000, FILENAME)\n"
   ]
  },
  {
   "cell_type": "code",
   "execution_count": 175,
   "metadata": {},
   "outputs": [
    {
     "data": {
      "text/plain": [
       "'A---B---C'"
      ]
     },
     "execution_count": 175,
     "metadata": {},
     "output_type": "execute_result"
    }
   ],
   "source": [
    "\"---\".join([\"A\", \"B\", \"C\"])"
   ]
  },
  {
   "cell_type": "code",
   "execution_count": 176,
   "metadata": {},
   "outputs": [
    {
     "data": {
      "text/plain": [
       "['0', '1', '2', '3', '4', '5', '6', '7', '8', '9']"
      ]
     },
     "execution_count": 176,
     "metadata": {},
     "output_type": "execute_result"
    }
   ],
   "source": [
    "[str(item) for item in range(10)]"
   ]
  },
  {
   "cell_type": "code",
   "execution_count": 179,
   "metadata": {},
   "outputs": [
    {
     "data": {
      "text/plain": [
       "['1', '2', '3']"
      ]
     },
     "execution_count": 179,
     "metadata": {},
     "output_type": "execute_result"
    }
   ],
   "source": [
    "list(map(str, [1, 2, 3]))"
   ]
  },
  {
   "cell_type": "code",
   "execution_count": 194,
   "metadata": {},
   "outputs": [
    {
     "data": {
      "text/plain": [
       "'data/output.csv'"
      ]
     },
     "execution_count": 194,
     "metadata": {},
     "output_type": "execute_result"
    }
   ],
   "source": [
    "import os\n",
    "os.path.join(\"data\", \"output.csv\")"
   ]
  },
  {
   "cell_type": "code",
   "execution_count": null,
   "metadata": {},
   "outputs": [],
   "source": []
  }
 ],
 "metadata": {
  "kernelspec": {
   "display_name": "Python 3",
   "language": "python",
   "name": "python3"
  },
  "language_info": {
   "codemirror_mode": {
    "name": "ipython",
    "version": 3
   },
   "file_extension": ".py",
   "mimetype": "text/x-python",
   "name": "python",
   "nbconvert_exporter": "python",
   "pygments_lexer": "ipython3",
   "version": "3.6.7"
  }
 },
 "nbformat": 4,
 "nbformat_minor": 2
}
