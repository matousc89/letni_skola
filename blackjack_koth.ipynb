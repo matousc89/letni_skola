{
 "cells": [
  {
   "cell_type": "markdown",
   "metadata": {},
   "source": [
    "# Dice black jack king of the hill controller implementation"
   ]
  },
  {
   "cell_type": "markdown",
   "metadata": {},
   "source": [
    "* Menší pozitivní rozdíl do 21 vyhrává (negativní rozdíl má nejvyšší možnou penalizaci)\n",
    "* Při stejném rozdílu vyhrává dealer\n",
    "* Dealer - nemůže hrát přes 17\n",
    "* Bettor - nemůže hrát přes 21\n",
    "* První hraje Bettor\n"
   ]
  },
  {
   "cell_type": "markdown",
   "metadata": {},
   "source": [
    "## Třída reprezentující hráče"
   ]
  },
  {
   "cell_type": "code",
   "execution_count": 2,
   "metadata": {},
   "outputs": [],
   "source": [
    "import random\n",
    "\n",
    "class Player():\n",
    "    \n",
    "    def __init__(self, log, name,\n",
    "                bettor_handler,\n",
    "                dealer_handler,\n",
    "                bet_handler,\n",
    "                check_handler,\n",
    "                ):\n",
    "        self.log = log\n",
    "        self.name = name\n",
    "        self.wallet = 1000\n",
    "        self.value = 0\n",
    "        self.bettor_handler = bettor_handler\n",
    "        self.dealer_handler = dealer_handler\n",
    "        self.bet_handler = bet_handler\n",
    "        self.check_handler = check_handler\n",
    "   \n",
    "    def roll_dice(self):\n",
    "        return random.randint(1, 6)\n",
    "\n",
    "    def get_penalty(self):\n",
    "        penalty = 21 - self.value\n",
    "        return 100 if penalty < 0 else penalty\n",
    "    \n",
    "    def new_round(self):\n",
    "        self.value = 0\n",
    "    \n",
    "    def bettor_play(self):\n",
    "        still_playing = True\n",
    "        while still_playing:\n",
    "            self.value += self.roll_dice()\n",
    "            still_playing = self.bettor_handler(self.value, self.log)\n",
    "            if self.value >= 21:\n",
    "                still_playing = False\n",
    "\n",
    "    def dealer_play(self):\n",
    "        still_playing = True\n",
    "        while still_playing:\n",
    "            self.value += self.roll_dice()\n",
    "            still_playing = self.dealer_handler(self.value, self.log)\n",
    "            if self.value >= 17:\n",
    "                still_playing = False\n",
    "    \n",
    "    def bet(self):\n",
    "        return self.bet_handler(self.value, self.log)\n",
    "    \n",
    "    def check(self, bet):\n",
    "        return self.check_handler(self.value, self.log, bet)\n",
    "\n",
    "def dummy_bettor_handler(value, log):\n",
    "    return True\n",
    "\n",
    "def dummy_dealer_handler(value, log):\n",
    "    return True\n",
    "\n",
    "def dummy_bet_handler(value, log):\n",
    "    return 5\n",
    "\n",
    "def dummy_check_handler(value, log, bet):\n",
    "    return True  "
   ]
  },
  {
   "cell_type": "markdown",
   "metadata": {},
   "source": [
    "## Simulace hry"
   ]
  },
  {
   "cell_type": "code",
   "execution_count": 11,
   "metadata": {},
   "outputs": [
    {
     "name": "stdout",
     "output_type": "stream",
     "text": [
      "A\t990\n",
      "B\t1010\n"
     ]
    }
   ],
   "source": [
    "def game_round(dealer, bettor, log):\n",
    "    bettor.new_round()\n",
    "    dealer.new_round()\n",
    "    bettor.bettor_play()\n",
    "    bet = bettor.bet()\n",
    "    dealer.dealer_play()\n",
    "    if dealer.check(bet):\n",
    "        if bettor.get_penalty() < dealer.get_penalty():\n",
    "            bettor.wallet += bet\n",
    "            dealer.wallet -= bet\n",
    "            log.append((bettor.name, \"B\", bet, 1, bettor.value, dealer.value))\n",
    "        else:\n",
    "            bettor.wallet -= bet\n",
    "            dealer.wallet += bet\n",
    "            log.append((dealer.name, \"D\", bet, 1, dealer.value, bettor.value))\n",
    "    else:\n",
    "        bettor.wallet += 1\n",
    "        dealer.wallet -= 1\n",
    "        log.append((bettor.name, \"B\", bet, 0, bettor.value, dealer.value))\n",
    "\n",
    "def simulation(players, n, log):\n",
    "    for k in range(n):\n",
    "        game_round(players[0], players[1], log)\n",
    "        players = players[::-1]\n",
    "    for p in players:\n",
    "        print(\"{}\\t{}\".format(p.name, p.wallet))\n",
    "    output = \"name,role,bet,check,winner value, loser value\\n\"\n",
    "    output += \"\\n\".join([\",\".join(map(str, line)) for line in log])\n",
    "    with open(\"data/output.csv\", \"w\") as f:\n",
    "        f.write(output)       \n",
    "    \n",
    "log = []\n",
    "\n",
    "p1 = Player(log, \"A\", dummy_bettor_handler, dummy_dealer_handler,\n",
    "           dummy_bet_handler, dummy_check_handler)\n",
    "p2 = Player(log, \"B\", dummy_bettor_handler, dummy_dealer_handler,\n",
    "           dummy_bet_handler, dummy_check_handler)\n",
    "\n",
    "simulation([p1, p2], 100, log)"
   ]
  },
  {
   "cell_type": "markdown",
   "metadata": {},
   "source": [
    "## Ukázková hra"
   ]
  },
  {
   "cell_type": "code",
   "execution_count": 100,
   "metadata": {},
   "outputs": [
    {
     "name": "stdout",
     "output_type": "stream",
     "text": [
      "Better player\t1097\n",
      "Dummy player\t903\n"
     ]
    }
   ],
   "source": [
    "def better_bettor_handler(value, log):\n",
    "    if value < 18:\n",
    "        return True\n",
    "    else:\n",
    "        return False\n",
    "\n",
    "def better_dealer_handler(value, log):\n",
    "    return True\n",
    "\n",
    "def better_bet_handler(value, log):\n",
    "    return random.randint(1,5)\n",
    "\n",
    "def better_check_handler(value, log, bet):\n",
    "    if value > 21:\n",
    "        return False\n",
    "    else:\n",
    "        return True  \n",
    "    \n",
    "    \n",
    "log = []\n",
    "p1 = Player(log, \"Better player\", better_bettor_handler, better_dealer_handler,\n",
    "           better_bet_handler, better_check_handler)\n",
    "p2 = Player(log, \"Dummy player\", dummy_bettor_handler, dummy_dealer_handler,\n",
    "           dummy_bet_handler, dummy_check_handler)\n",
    "\n",
    "simulation([p1, p2], 100, log)"
   ]
  },
  {
   "cell_type": "code",
   "execution_count": 101,
   "metadata": {},
   "outputs": [
    {
     "data": {
      "text/plain": [
       "[('Better player', 'D', 5, 1, 17, 25),\n",
       " ('Dummy player', 'D', 1, 1, 17, 23),\n",
       " ('Better player', 'D', 5, 1, 18, 24),\n",
       " ('Dummy player', 'D', 1, 1, 21, 21),\n",
       " ('Better player', 'D', 5, 1, 19, 22),\n",
       " ('Dummy player', 'D', 1, 1, 22, 22),\n",
       " ('Dummy player', 'B', 5, 0, 21, 22),\n",
       " ('Dummy player', 'D', 4, 1, 17, 23),\n",
       " ('Better player', 'D', 5, 1, 20, 26),\n",
       " ('Better player', 'B', 1, 1, 20, 18),\n",
       " ('Dummy player', 'B', 5, 0, 24, 22),\n",
       " ('Better player', 'B', 1, 1, 21, 19),\n",
       " ('Better player', 'D', 5, 1, 20, 26),\n",
       " ('Dummy player', 'D', 5, 1, 19, 18),\n",
       " ('Better player', 'D', 5, 1, 17, 23),\n",
       " ('Dummy player', 'D', 2, 1, 18, 18),\n",
       " ('Better player', 'D', 5, 1, 18, 25),\n",
       " ('Better player', 'B', 3, 1, 19, 17),\n",
       " ('Better player', 'D', 5, 1, 20, 22),\n",
       " ('Better player', 'B', 4, 1, 19, 18),\n",
       " ('Dummy player', 'B', 5, 1, 21, 17),\n",
       " ('Dummy player', 'D', 2, 1, 20, 18),\n",
       " ('Better player', 'D', 5, 1, 19, 23),\n",
       " ('Better player', 'B', 4, 1, 21, 18),\n",
       " ('Dummy player', 'B', 5, 1, 21, 18),\n",
       " ('Better player', 'B', 3, 1, 20, 19),\n",
       " ('Better player', 'D', 5, 1, 19, 25),\n",
       " ('Dummy player', 'D', 2, 1, 20, 18),\n",
       " ('Better player', 'D', 5, 1, 19, 22),\n",
       " ('Better player', 'B', 5, 1, 20, 17),\n",
       " ('Dummy player', 'B', 5, 1, 21, 20),\n",
       " ('Better player', 'B', 1, 1, 20, 17),\n",
       " ('Dummy player', 'B', 5, 0, 25, 22),\n",
       " ('Better player', 'B', 3, 1, 19, 17),\n",
       " ('Dummy player', 'B', 5, 1, 21, 19),\n",
       " ('Dummy player', 'D', 5, 1, 18, 18),\n",
       " ('Dummy player', 'B', 5, 1, 21, 17),\n",
       " ('Dummy player', 'D', 1, 1, 20, 19),\n",
       " ('Better player', 'D', 5, 1, 17, 24),\n",
       " ('Dummy player', 'D', 2, 1, 18, 18),\n",
       " ('Better player', 'D', 5, 1, 18, 24),\n",
       " ('Dummy player', 'D', 5, 1, 19, 18),\n",
       " ('Better player', 'D', 5, 1, 17, 25),\n",
       " ('Dummy player', 'D', 1, 1, 19, 23),\n",
       " ('Better player', 'D', 5, 1, 18, 24),\n",
       " ('Better player', 'B', 2, 1, 19, 17),\n",
       " ('Dummy player', 'B', 5, 1, 21, 20),\n",
       " ('Better player', 'B', 2, 1, 19, 18),\n",
       " ('Better player', 'D', 5, 1, 21, 24),\n",
       " ('Better player', 'B', 2, 1, 21, 18),\n",
       " ('Better player', 'D', 5, 1, 20, 23),\n",
       " ('Dummy player', 'D', 3, 1, 20, 18),\n",
       " ('Dummy player', 'B', 5, 1, 21, 17),\n",
       " ('Better player', 'B', 3, 1, 19, 17),\n",
       " ('Better player', 'D', 5, 1, 19, 22),\n",
       " ('Better player', 'B', 5, 1, 19, 17),\n",
       " ('Dummy player', 'B', 5, 1, 21, 17),\n",
       " ('Dummy player', 'D', 3, 1, 18, 23),\n",
       " ('Better player', 'D', 5, 1, 20, 22),\n",
       " ('Better player', 'B', 1, 1, 20, 17),\n",
       " ('Better player', 'D', 5, 1, 17, 23),\n",
       " ('Dummy player', 'D', 1, 1, 18, 18),\n",
       " ('Better player', 'D', 5, 1, 17, 24),\n",
       " ('Dummy player', 'D', 2, 1, 20, 20),\n",
       " ('Dummy player', 'B', 5, 1, 21, 17),\n",
       " ('Better player', 'B', 4, 1, 19, 17),\n",
       " ('Dummy player', 'B', 5, 1, 21, 17),\n",
       " ('Better player', 'B', 3, 1, 21, 19),\n",
       " ('Dummy player', 'B', 5, 1, 21, 17),\n",
       " ('Dummy player', 'D', 1, 1, 17, 22),\n",
       " ('Better player', 'D', 5, 1, 20, 23),\n",
       " ('Dummy player', 'D', 1, 1, 20, 18),\n",
       " ('Better player', 'D', 5, 1, 19, 22),\n",
       " ('Dummy player', 'D', 1, 1, 17, 22),\n",
       " ('Better player', 'D', 5, 1, 17, 22),\n",
       " ('Dummy player', 'D', 2, 1, 20, 19),\n",
       " ('Better player', 'D', 5, 1, 20, 24),\n",
       " ('Dummy player', 'D', 1, 1, 18, 18),\n",
       " ('Better player', 'D', 5, 1, 21, 21),\n",
       " ('Dummy player', 'D', 4, 1, 20, 18),\n",
       " ('Better player', 'D', 5, 1, 18, 22),\n",
       " ('Better player', 'B', 5, 1, 19, 18),\n",
       " ('Better player', 'D', 5, 1, 19, 23),\n",
       " ('Dummy player', 'D', 2, 1, 20, 19),\n",
       " ('Better player', 'D', 5, 1, 18, 23),\n",
       " ('Dummy player', 'D', 2, 1, 19, 18),\n",
       " ('Better player', 'D', 5, 1, 21, 21),\n",
       " ('Better player', 'B', 3, 1, 20, 18),\n",
       " ('Better player', 'D', 5, 1, 19, 22),\n",
       " ('Better player', 'B', 5, 1, 20, 18),\n",
       " ('Dummy player', 'B', 5, 1, 21, 18),\n",
       " ('Better player', 'B', 5, 1, 21, 18),\n",
       " ('Dummy player', 'B', 5, 1, 21, 20),\n",
       " ('Dummy player', 'D', 5, 1, 19, 19),\n",
       " ('Better player', 'D', 5, 1, 18, 22),\n",
       " ('Dummy player', 'D', 3, 1, 20, 20),\n",
       " ('Better player', 'D', 5, 1, 20, 22),\n",
       " ('Better player', 'B', 1, 1, 21, 18),\n",
       " ('Dummy player', 'B', 5, 1, 21, 17),\n",
       " ('Better player', 'B', 2, 1, 20, 18)]"
      ]
     },
     "execution_count": 101,
     "metadata": {},
     "output_type": "execute_result"
    }
   ],
   "source": [
    "log"
   ]
  },
  {
   "cell_type": "code",
   "execution_count": null,
   "metadata": {},
   "outputs": [],
   "source": []
  }
 ],
 "metadata": {
  "kernelspec": {
   "display_name": "Python 3",
   "language": "python",
   "name": "python3"
  },
  "language_info": {
   "codemirror_mode": {
    "name": "ipython",
    "version": 3
   },
   "file_extension": ".py",
   "mimetype": "text/x-python",
   "name": "python",
   "nbconvert_exporter": "python",
   "pygments_lexer": "ipython3",
   "version": "3.6.7"
  }
 },
 "nbformat": 4,
 "nbformat_minor": 2
}
